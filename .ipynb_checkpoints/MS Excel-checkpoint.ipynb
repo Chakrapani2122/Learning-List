{
 "cells": [
  {
   "cell_type": "markdown",
   "id": "43ca78b9-66f7-47ad-bde6-243580e543ce",
   "metadata": {},
   "source": []
  },
  {
   "cell_type": "markdown",
   "id": "e2567a19-76b4-4313-823d-3f5a15ccc4ab",
   "metadata": {},
   "source": []
  },
  {
   "cell_type": "markdown",
   "id": "1a02b672-6781-41ce-a0ae-1ef2f7491148",
   "metadata": {},
   "source": []
  },
  {
   "cell_type": "markdown",
   "id": "bb8d4152-7417-46f2-aa86-75ce3406f808",
   "metadata": {},
   "source": []
  },
  {
   "cell_type": "markdown",
   "id": "c5c68a0f-d8c3-4fb0-bb14-eb4564f99351",
   "metadata": {},
   "source": []
  },
  {
   "cell_type": "markdown",
   "id": "6da2bfbd-6ed9-4a13-84ad-a4729b807ca8",
   "metadata": {},
   "source": []
  },
  {
   "cell_type": "markdown",
   "id": "ce27a2ba-42e3-4f64-a7c2-feda14555686",
   "metadata": {},
   "source": []
  },
  {
   "cell_type": "markdown",
   "id": "2de2ba5d-6c0f-496d-b76c-f19e149e5376",
   "metadata": {},
   "source": []
  },
  {
   "cell_type": "markdown",
   "id": "9dcf332c-3b52-4801-a8ba-318f88dfcf92",
   "metadata": {},
   "source": []
  },
  {
   "cell_type": "markdown",
   "id": "ebd3e074-27ed-4a80-ab95-494f32e1fca4",
   "metadata": {},
   "source": []
  },
  {
   "cell_type": "markdown",
   "id": "a9c27838-4be1-4846-b746-53604bc14ffe",
   "metadata": {},
   "source": []
  },
  {
   "cell_type": "markdown",
   "id": "0db2a379-2fd3-4ab5-99ec-c536eef5d9c2",
   "metadata": {},
   "source": []
  },
  {
   "cell_type": "markdown",
   "id": "b4a4126d-19c7-40e1-bf53-ac4d25155073",
   "metadata": {},
   "source": []
  },
  {
   "cell_type": "markdown",
   "id": "033c13e5-2021-46da-95e3-754cc8f1732e",
   "metadata": {},
   "source": []
  },
  {
   "cell_type": "markdown",
   "id": "e86091b6-9665-47e0-bfbd-d9d422fc2b6f",
   "metadata": {},
   "source": []
  }
 ],
 "metadata": {
  "kernelspec": {
   "display_name": "Python 3 (ipykernel)",
   "language": "python",
   "name": "python3"
  },
  "language_info": {
   "codemirror_mode": {
    "name": "ipython",
    "version": 3
   },
   "file_extension": ".py",
   "mimetype": "text/x-python",
   "name": "python",
   "nbconvert_exporter": "python",
   "pygments_lexer": "ipython3",
   "version": "3.12.4"
  }
 },
 "nbformat": 4,
 "nbformat_minor": 5
}
