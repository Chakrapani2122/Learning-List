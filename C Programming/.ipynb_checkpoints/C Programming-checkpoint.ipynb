{
 "cells": [
  {
   "cell_type": "markdown",
   "id": "15b6aa94-dc19-47ee-97aa-6109667eba91",
   "metadata": {},
   "source": [
    "# C Programming\n",
    "\n",
    "* C is a procedural langauge developed by **Dennis Ritche** in the year **1972** at **Bell Laboratories of AT&T Labs**.\n",
    "\n",
    "## Difference between C and C++\n",
    "\n",
    "* C++ is created to add OOps to C language so they both have very similar syantax with few differences.\n",
    "\n",
    "| **Feature**               | **C**                                              | **C++**                                             |\r\n",
    "|---------------------------|----------------------------------------------------|-----------------------------------------------------|\r\n",
    "| **Programming Paradigm**   | Procedural programming                             | Supports Object-Oriented Programming (OOP) paradigm |\r\n",
    "| **Exception Handling**     | Manual exception handling                          | Has built-in exception handling capabilities         |\r\n",
    "| **References**             | No support for references                          | Supports references                                 |\r\n"
   ]
  },
  {
   "cell_type": "markdown",
   "id": "53109c5d-a29c-4ef1-88c4-b4f3bbedc45e",
   "metadata": {},
   "source": [
    "## Structure of C Program\n",
    "\n",
    "* Any program can be written in this structure only in C Programming.\n",
    "* Writing a C program in any other structure will lead to Compilation Error.\n",
    "\n",
    "```c\n",
    "#include<stdio.h> //Header\n",
    "int main(viod) //Main\n",
    "{\n",
    "    printf(\"Hello World!\"); //Statement\n",
    "    return 0; //Return\n",
    "}\n",
    "```"
   ]
  },
  {
   "cell_type": "markdown",
   "id": "343f875d-bdfe-479e-b3b9-140ec61ba437",
   "metadata": {},
   "source": [
    "## Components of C Program\n",
    "\n",
    "### 1. Header Files Inclusion (#include<stdio.h>)\n",
    "* Header file is a file with extension **.h** contains C function declarations ansd macro definitions.\n",
    "* All lines that starts with **#** are processed by a preprocessor which is a program invoked by the compiler.\n",
    "* The preprocessor copies the preprocessed code of stdio.h to our file.\n",
    "* The .h files are called header files in C.\n",
    "* Some of the C header files are :\n",
    "  * **stddef.h** : defines several useful types and macros.\n",
    "  * **stdint.h** : defines exact width integer types.\n",
    "  * **stdio.h** : Defines core input and output functions.\n",
    "  * **stdlib.h** : Defines numeric conversion functions, pseido-random number generator, and memory allocation.\n",
    "  * **math.h** : Defines common mathematical functions.\n",
    "\n",
    "### 2. Main Method Declaration (int main())\n",
    "* main() is the entry pointof the C program, the execution starts with the first line of the main().\n",
    "* The empty brackets indicate that the main doesn't take any parameters.\n",
    "* The int that was written before the main indicates the status of programm termination.\n",
    "\n",
    "\n",
    "### 3. Body of Main Method (encloded in {})\n",
    "* Body of the function referes to the statements that are the part of the function.\n",
    "* It can be anything like the manipulations, searching, sorting, printing, etc.\n",
    "* All functions must start and end with acurly brackets.\n",
    "\n",
    "\n",
    "### 4. Statement (printf(\"hello World!\");)\n",
    "* Statements are the instruuctions given to the compiler.\n",
    "* A statement always ends with a semicoln **(;)**.\n",
    "\n",
    "\n",
    "### 5. Return Statement (return 0;)\n",
    "* The return statement refers to the return values from the function.\n",
    "* This return statement and return value depends on the return type of the function.\n",
    "* The returned value may be used by the operating system to know the termination status of the program.\n",
    "* The value **0** typically means the successful termination."
   ]
  },
  {
   "cell_type": "markdown",
   "id": "eaff239b-8eff-4640-a303-9b2c351d29fa",
   "metadata": {},
   "source": [
    "## Features of C Programming\n",
    "* low-level access to memory.\n",
    "* simple set of keywords\n",
    "* clean style\n",
    "* Procedural languagefast and efficient\n",
    "* Modularity\n",
    "* Statically typed\n",
    "* General-Purpose language\n",
    "* rich set of built-in Operators\n",
    "* Libraries with Rich Function\n",
    "* Middle-Level Language\n",
    "* Portability\n",
    "* Easy to Extend"
   ]
  },
  {
   "cell_type": "markdown",
   "id": "80f3c739-7d18-477c-8a18-f6a0f732f471",
   "metadata": {},
   "source": [
    "* To print something on disply in C programming we can use `printf()`, `puts()` or loop through the string for each character using `putchar()` function."
   ]
  },
  {
   "cell_type": "markdown",
   "id": "b02a18c8-1b8a-4809-a842-f99976b8a787",
   "metadata": {},
   "source": [
    "## Compiling a C program\n",
    "\n",
    "* Compilation is the process of converting the source code of te C programming to machine code.\n",
    "* As C is a middle-Level languauge it need a a commpiler to convert the code into a executable code to run on the machine.\n",
    "* It oes through the phases as follows :\n",
    "\n",
    "\n",
    "`source file` ==> `preprocessor` (processed file (.i file)) ==> `Compiler` (Assembly code (.s file)) ==> `Assembler` (Object code (.o file)) ==> `Linker` (Executable file)."
   ]
  },
  {
   "cell_type": "markdown",
   "id": "6a3629a9-8a7d-4bc0-85fe-8776dc5fa7c9",
   "metadata": {},
   "source": [
    "### 1. Pre-Processeing\n",
    "\n",
    "* Goes through the phases:\n",
    "    * Removal of Comments\n",
    "    * Expansion of Macros\n",
    "    * Expansion of the included files\n",
    "    * Conditional compilation\n",
    "\n",
    "* The code is converted into Binary code (.oi file)\n",
    "\n",
    "\n",
    "### 2. Compiling\n",
    "* It produces an intermediate output file, the binary code is converted into assembly-level instructions (.s file) so thhat the assembler can unserstand it\n",
    "\n",
    "### 3. Assembler\n",
    "* Assembler convertes the Assembly-levell instriuctions to machine readbale language.\n",
    "* Only existig code is converted into machine language, and the functions like printf() are not resolved.\n",
    "* File is converted to Object code (.o file)\n",
    "\n",
    "\n",
    "### 4. Linking\n",
    "* The final pase of te compilation process, linking the function calls with the function definitions.\n",
    "* Linker also adds some extra code needed when the proggrams starts amnd ends.\n",
    "* For example, code required for setting up the environment like passing command line arguments.\n",
    "* Now thhe object file increases to an executable file. This is because of the extra code thhat Linker adds to the program."
   ]
  },
  {
   "cell_type": "markdown",
   "id": "c54d5ca4-ace9-4f31-ae98-4278842e5b0e",
   "metadata": {},
   "source": [
    "## Comments in C programming\n",
    "* These are the statements that are not executed by the compiler.\n",
    "* **Single-Line Comments** : starst with **//** and ends with the end of the line and we don't need to specify its end.\n",
    "* **Multi-Line Comments** : it starts with /* and ends with */, any text between them arte ignored by the compiler."
   ]
  },
  {
   "cell_type": "markdown",
   "id": "af08dd01-58c4-4954-b926-99df74986184",
   "metadata": {},
   "source": [
    "## Tokens in C\n",
    "* A token in C can be described as the smallest and basic unit of C Program that is meaningful to the compiler.\n",
    "* Types of Tokenss in C are (6):\n",
    "  * Keywords\n",
    "  * Identifiers\n",
    "  * Constants\n",
    "  * Strings\n",
    "  * Special Symbols\n",
    "  * Operators\n",
    "\n",
    "### Keywords\n",
    "* keywords are the pre-defined words or reserved words in a programming language. Each keyword meant to perform some function or task.\n",
    "* They can't be used as variable names.\n",
    "\n",
    "| **Keyword 1** | **Keyword 2** | **Keyword 3** | **Keyword 4** |\r\n",
    "|---------------|---------------|---------------|---------------|\r\n",
    "| auto          | double        | int           | struct        |\r\n",
    "| break         | else          | long          | switch        |\r\n",
    "| case          | enum          | register      | typedef       |\r\n",
    "| char          | extern        | return        | union         |\r\n",
    "| const         | float         | short         | unsigned      |\r\n",
    "| continue      | for           | signed        | void          |\r\n",
    "| default       | goto          | sizeof        | volatile      |\r\n",
    "| do            | if            | static        | while  \n",
    "\n",
    "### Identifiers\n",
    "* Identifiers are used as the general terminology for the naming of variables, functions, and arrays.\n",
    "* These are user-defined names consisting of an arbitrarily long sequence of letters and digits with either a letter or the underscore (_) as a first character.\n",
    "* Identifier names must differ in spelling and case from any keywords.\n",
    "\n",
    "#### Rules for Naming Identifiers\n",
    "* Must begin with a letter or underscore(_)\n",
    "* They must consist of only letters, digits, or underscore(_), NO other special character is allowed.\n",
    "* It should not be a keyword\n",
    "* It must contain white space\n",
    "* It should be up to 31 characters long as only the first 31 characters are significant.       |\r\n"
   ]
  },
  {
   "cell_type": "markdown",
   "id": "13085101-fdf0-4cab-8c45-45a8278587d9",
   "metadata": {},
   "source": [
    "### Constants\n",
    "* Constants refers to the variables with fixed values and cannot be modified in the program once they are defined.\n",
    "* Constants may belong to any of the data types.\n",
    "\n",
    "```c\n",
    "const int c_var = 20;\n",
    "const int* const ptr = &c_var;\n",
    "```\n",
    "### Strings\n",
    "* String is an array of characters ended with a null character **('\\0')**. This null character indicates the end of the string.\n",
    "* **Strings** are always enclosed in **double quotes**. Whereas a **character** is enclosed in **single quotes** in C and C++.\n",
    "\n",
    "### Special Symbols\n",
    "\n",
    "Some symbols in C have special meaning and cannot be used for some other purpose.\n",
    "\n",
    "* **Brackets[]** : used as array element reference. these indicate single and multi-dimensional subscripts.\n",
    "* **Parentheses()** : used to indicate function calls and function parameters.\n",
    "* **Braces{}** : marks the start and end of a block of code containing more than one executable statements.\n",
    "* **Comma (,)** : Separates more than one statement like for separating parameters in function calls.\n",
    "* **Colon (:)** : an operator that invokes something called an initialization list.\n",
    "* **Semicolon (;)** : statement terminator, indicates the end of one logical entity. Each individual statement must end with a semicoln.\n",
    "* **Asterisk (*)** : Used to create a pointer variable and for the multiplication of variables.\n",
    "* **Assignment  Operator (=)** : used to assign values and for logical operation validation.\n",
    "* **Pre-processor (#)** : it is a macro processor used automatically by the compiler to transform the program before actual compilation.\n",
    "* **Period (.)**: used to access members of a structure or union.\n",
    "* **Tilde (~)** : Bitwise One's Complement Operator.\n",
    "\n",
    "\n",
    "### Operators\n",
    "\n",
    "* Operators are the symbols that trigger an action when applied to variables and other objects.\n",
    "* The data items on which operators act ate called operands.\n",
    "* Depending on the number of operands that an operator can acy upon, operators can be calssified as:\n",
    "  * **Unary Operators** : require only a single operand to act upon.\n",
    "    > Increment and Decrement operators.\n",
    "  * **Binary Operators**: requires two operands to act upon.\n",
    "    1. Arithmetic Operators\n",
    "    2. Relational Operators\n",
    "    3. Logical Operators\n",
    "    4. Assignment Operators\n",
    "    5. Bitwise Operators\n",
    "  * **Ternary Operator** : requires three operands to act upon.\n",
    "    > Conditional Operator (?) is also called as ternary operator."
   ]
  },
  {
   "cell_type": "markdown",
   "id": "77e963ee-0d36-4c8d-838c-e2f6366d86ab",
   "metadata": {},
   "source": [
    "## Keywords in C (indetail)\n",
    "* "
   ]
  },
  {
   "cell_type": "code",
   "execution_count": null,
   "id": "2ff633d8-395f-456f-b8dd-2eb85bc0c7bc",
   "metadata": {},
   "outputs": [],
   "source": []
  }
 ],
 "metadata": {
  "kernelspec": {
   "display_name": "Python 3 (ipykernel)",
   "language": "python",
   "name": "python3"
  },
  "language_info": {
   "codemirror_mode": {
    "name": "ipython",
    "version": 3
   },
   "file_extension": ".py",
   "mimetype": "text/x-python",
   "name": "python",
   "nbconvert_exporter": "python",
   "pygments_lexer": "ipython3",
   "version": "3.11.7"
  },
  "widgets": {
   "application/vnd.jupyter.widget-state+json": {
    "state": {},
    "version_major": 2,
    "version_minor": 0
   }
  }
 },
 "nbformat": 4,
 "nbformat_minor": 5
}
