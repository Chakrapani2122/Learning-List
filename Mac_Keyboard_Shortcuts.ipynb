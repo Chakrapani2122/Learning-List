{
  "nbformat": 4,
  "nbformat_minor": 0,
  "metadata": {
    "colab": {
      "provenance": [],
      "authorship_tag": "ABX9TyM+45qv2zNsZ31Z1qnfPnuM",
      "include_colab_link": true
    },
    "kernelspec": {
      "name": "python3",
      "display_name": "Python 3"
    },
    "language_info": {
      "name": "python"
    }
  },
  "cells": [
    {
      "cell_type": "markdown",
      "metadata": {
        "id": "view-in-github",
        "colab_type": "text"
      },
      "source": [
        "<a href=\"https://colab.research.google.com/github/Chakrapani2122/Learning-List/blob/main/Mac_Keyboard_Shortcuts.ipynb\" target=\"_parent\"><img src=\"https://colab.research.google.com/assets/colab-badge.svg\" alt=\"Open In Colab\"/></a>"
      ]
    },
    {
      "cell_type": "markdown",
      "source": [
        "---\n",
        "\n",
        "### 🧭 **Modifier Key Comparison**\n",
        "\n",
        "| macOS Key | Windows Equivalent |\n",
        "|-----------|--------------------|\n",
        "| ⌘ Command | Ctrl               |\n",
        "| ⌥ Option  | Alt                |\n",
        "| ⌃ Control | Ctrl (or right-click equivalent) |\n",
        "| ⇧ Shift   | Shift              |\n",
        "| ⌫ Delete  | Backspace          |\n",
        "| fn        | Fn                 |\n",
        "\n",
        "---\n",
        "\n",
        "### 💻 **General System Shortcuts**\n",
        "\n",
        "| Action                          | macOS Shortcut                     | Windows Shortcut                |\n",
        "|----------------------------------|-------------------------------------|----------------------------------|\n",
        "| Copy                            | ⌘ + C                              | Ctrl + C                         |\n",
        "| Paste                           | ⌘ + V                              | Ctrl + V                         |\n",
        "| Cut                             | ⌘ + X                              | Ctrl + X                         |\n",
        "| Undo                            | ⌘ + Z                              | Ctrl + Z                         |\n",
        "| Redo                            | ⌘ + ⇧ + Z                          | Ctrl + Y                         |\n",
        "| Select All                      | ⌘ + A                              | Ctrl + A                         |\n",
        "| Save                            | ⌘ + S                              | Ctrl + S                         |\n",
        "| Print                           | ⌘ + P                              | Ctrl + P                         |\n",
        "| Find                            | ⌘ + F                              | Ctrl + F                         |\n",
        "| Quit App                        | ⌘ + Q                              | Alt + F4                         |\n",
        "| Force Quit                      | ⌘ + ⌥ + Esc                        | Ctrl + Shift + Esc              |\n",
        "| Switch Between Apps             | ⌘ + Tab                            | Alt + Tab                        |\n",
        "| Close Window                    | ⌘ + W                              | Ctrl + W                         |\n",
        "| Minimize Window                 | ⌘ + M                              | Win + Down Arrow (or Alt + Space → N) |\n",
        "| New Window or Tab               | ⌘ + N                              | Ctrl + N                         |\n",
        "| Lock Screen                     | Ctrl + ⌘ + Q                       | Win + L                          |\n",
        "\n",
        "---\n",
        "\n",
        "### 🗂️ **File & Finder (Explorer) Shortcuts**\n",
        "\n",
        "| Action                          | macOS Shortcut                     | Windows Shortcut                |\n",
        "|----------------------------------|-------------------------------------|----------------------------------|\n",
        "| Open Finder / File Explorer     | ⌘ + Space (then type Finder)       | Win + E                          |\n",
        "| Open Spotlight / Search         | ⌘ + Space                          | Win + S or Win + Q               |\n",
        "| Delete to Trash                 | ⌘ + Delete                         | Delete                           |\n",
        "| Empty Trash                     | ⌘ + ⇧ + Delete                     | Shift + Delete (permanent)       |\n",
        "| Quick Look (preview file)       | Space                              | Alt + P (in File Explorer)       |\n",
        "| Rename File                     | Return (with file selected)        | F2                               |\n",
        "\n",
        "---\n",
        "\n",
        "### 🌐 **Web Browsing Shortcuts**\n",
        "\n",
        "| Action                          | macOS Shortcut                     | Windows Shortcut                |\n",
        "|----------------------------------|-------------------------------------|----------------------------------|\n",
        "| New Tab                         | ⌘ + T                              | Ctrl + T                         |\n",
        "| Close Tab                       | ⌘ + W                              | Ctrl + W                         |\n",
        "| Reopen Closed Tab               | ⌘ + ⇧ + T                          | Ctrl + Shift + T                 |\n",
        "| Next Tab                        | ⌘ + Option + Right Arrow           | Ctrl + Tab                       |\n",
        "| Previous Tab                    | ⌘ + Option + Left Arrow            | Ctrl + Shift + Tab               |\n",
        "| Refresh                         | ⌘ + R                              | Ctrl + R or F5                   |\n",
        "| Open Dev Tools                  | ⌥ + ⌘ + I                          | F12 or Ctrl + Shift + I          |\n",
        "\n",
        "---\n",
        "\n",
        "### 🖥️ **Window & Display Management**\n",
        "\n",
        "| Action                          | macOS Shortcut                     | Windows Shortcut                |\n",
        "|----------------------------------|-------------------------------------|----------------------------------|\n",
        "| Mission Control (all windows)   | Control + ↑                        | Win + Tab                        |\n",
        "| Show Desktop                    | F11 or Fn + F11                    | Win + D                          |\n",
        "| Toggle Full Screen              | Control + ⌘ + F                   | F11                              |\n",
        "| Split View (drag window to edge) | Click & hold green button         | Win + Left/Right Arrow          |\n",
        "| Take Screenshot (entire)        | ⌘ + Shift + 3                     | Win + PrtScn                     |\n",
        "| Take Screenshot (area)          | ⌘ + Shift + 4                     | Win + Shift + S (Snipping Tool) |\n",
        "\n",
        "---\n",
        "\n",
        "### 🧠 **Virtual Desktops & Multitasking**\n",
        "\n",
        "| Action                          | macOS Shortcut                     | Windows Shortcut                |\n",
        "|----------------------------------|-------------------------------------|----------------------------------|\n",
        "| Add New Desktop (Space)         | Control + ↑ → + (top right corner) | Win + Ctrl + D                  |\n",
        "| Switch Desktop Left/Right       | Control + ← / →                    | Win + Ctrl + ← / →              |\n",
        "| Close Current Desktop           | Mission Control → Hover & close    | Win + Ctrl + F4                 |\n",
        "\n",
        "---\n"
      ],
      "metadata": {
        "id": "Thlompp4G79h"
      }
    }
  ]
}