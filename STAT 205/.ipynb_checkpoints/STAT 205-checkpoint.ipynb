{
 "cells": [
  {
   "cell_type": "markdown",
   "id": "f305b796-8af9-45e7-905d-2832bacedc4d",
   "metadata": {},
   "source": [
    "# STAT 205"
   ]
  },
  {
   "cell_type": "markdown",
   "id": "281f1fb5-1b0a-4cac-9a54-980925008da8",
   "metadata": {},
   "source": [
    "* Statistics is a branch of science dealing with collecting, \n",
    "organizing  summarizing, analysing and making decisions from\r\n",
    "dat\n",
    "* Statistics is divided into two main areas, which are **descriptive** and **inferential** statistics.\n",
    "* **Descriptive Statistics** : deals with method for collectiing, organizing, and describing data by using tables, graphs, and summary measures.\n",
    "* **Inferential Statistics** : deals with methods tha use sample results, to help in estimation or make decisions about the population.\n",
    "* A **Population** is the set of all elements(observations), items, or objects that bring them a common recipe and at least one taht will be studied their properties for a particular goal.*The components of teh population are called individuals or elements.\n",
    "> **EX** : Students at a school, where there rae different stages of the students, such as first, second, and third, as well as there are male and female, but they all gethered, including prescription study at hoigh school.\n",
    "\n",
    "* A **Sample** is a subset of the population selected for the study.\n",
    "* An **Element** (or member of a sample or population) is a specific subject or object about which is the information is collected.\n",
    "* A **Varaiable** is a characteristic under study that takes different values for different elements.\n",
    "* The **Value** od a variable for an element is called an **observation** or **measurement**\n",
    "* In statistics there ar etwo types of variables according to their elemets:\n",
    "  * **Qualitative**\n",
    "  * **Quantitative**\n",
    "* **Quantitative variable** gives us numbers representing counts or measurements.\n",
    "* **Qualitative variables** (or categorical data) gives us names or lables that rre not numbers representing the observations.a."
   ]
  },
  {
   "cell_type": "code",
   "execution_count": null,
   "id": "dd04ff57-644b-40f6-81a8-29a4a1b25429",
   "metadata": {},
   "outputs": [],
   "source": []
  }
 ],
 "metadata": {
  "kernelspec": {
   "display_name": "Python 3 (ipykernel)",
   "language": "python",
   "name": "python3"
  },
  "language_info": {
   "codemirror_mode": {
    "name": "ipython",
    "version": 3
   },
   "file_extension": ".py",
   "mimetype": "text/x-python",
   "name": "python",
   "nbconvert_exporter": "python",
   "pygments_lexer": "ipython3",
   "version": "3.11.7"
  },
  "widgets": {
   "application/vnd.jupyter.widget-state+json": {
    "state": {},
    "version_major": 2,
    "version_minor": 0
   }
  }
 },
 "nbformat": 4,
 "nbformat_minor": 5
}
