{
 "cells": [
  {
   "cell_type": "markdown",
   "id": "a31ce790-2814-45f5-ad60-453c42a63785",
   "metadata": {},
   "source": [
    "# Introductory Statistics\n",
    "## 1.Sampling and Data\n",
    "### 1.1 Definitions of Statistics, Probability and Key Terms"
   ]
  },
  {
   "cell_type": "markdown",
   "id": "91695fa7-a6ae-41fa-91c3-544e522bbfe5",
   "metadata": {},
   "source": [
    "* The Science of statistics deals with the collection, analysis, interretation and presentation of data.\n",
    "* Organizing and Summarizing data is called **Descriptive Statistics**\n",
    "> Two ways to summarize data are by **graphing** and by usiing **numbers**.\n",
    "\n",
    "* The goal of statistics is not to perform numerous calculations using formulas, but to gain an undertanding of your data.\n",
    "*  The formal methods used to draw good conclusions from the dat are called **Inferential Statistics**\n",
    "\n",
    "#### Probability\n",
    "* **Probability** is a mathematical tool used to study randomness. It deals with the likelihood of an event occuring.\n",
    "\n",
    "#### Key Terms\n",
    "* **Population** : Collection of Persons, things, or objects under study.\n",
    "* **Sampling (Sample)** : selecting a subset of lager population and study he portion to gain information about the population.\n",
    "* **Statistic** : It is a number  that represents a property of the sample ( an estimate of a population parameter).\n",
    "* **Parameter** : A numerical cheracteristic of the whole population that can be estimated by a statistic.\n",
    "* One of the main concern about statistics is accuracy, The accuracy really depends on how well the sample represents the population.\n",
    "* **Variable** : Characteristic or measurement that can be determined for each member of the popultion. Usually dentoed by Capital Letters.\n",
    " > Variables may be **Numerical** or **Categorical**.\n",
    "* **Numerical Variables** take on values witth equal units such as weight inpounds and time in hours.\n",
    "* **Categorical Variable** places the person or thing into a category.\n",
    "* **Data** ar ethe actual values of the variable. **Datum** is the single value."
   ]
  },
  {
   "cell_type": "markdown",
   "id": "6da6f4ca-0637-4cd7-8a19-bf02ad38f0ff",
   "metadata": {},
   "source": [
    "### 1.2 Data, Sampling, and Variation in Data and Sampling.\n",
    "\n",
    "* Data can be categorised into\n",
    "  > **Qualitative**\n",
    "\n",
    "  > **Quantitative**\n",
    "* **Qualitative Data** (Categorical Data) result of categorizing or describing attributes of a population.\n",
    "  > EX: Hair Color, Blood Type\n",
    "* **Quantitative Data** : (discrete, continuous) result of counting or measuring attributes of a populaton.\n",
    "  > Ex: Weight, Height, Pulse Rate\n",
    "\n",
    "  > Result of Counting **Quantitative Discrete Data**.\n",
    "  \n",
    "  > Results of data not only made up of counting **Quantitative Continuous Data**."
   ]
  },
  {
   "cell_type": "markdown",
   "id": "0a9c6723-9ea2-494e-94c2-f3940de2ec61",
   "metadata": {},
   "source": [
    "#### Sampling\n",
    "\n",
    "* Types of well-known Random Sampling Methods\n",
    "  > **Simple Random Sampling**\n",
    "\n",
    "  > **Stratified Sample**\n",
    "\n",
    "  > **Cluster Sample**\n",
    "\n",
    "  > **Systematic Sample**\n",
    "\n",
    "  > **Convenience Sampling**\n",
    "* True Random Sampling is done with replacement.\n",
    "\n",
    "#### Variation in Data\n",
    "\n",
    "* Two or more sample taken form the same population randomly, and having close to the same characteristics of the population will likely be different from each other.\n",
    "\n",
    "#### Size of Sample\n",
    "\n",
    "* The size of the sample is very important to study teh confidence intervals."
   ]
  },
  {
   "cell_type": "markdown",
   "id": "ea8fa1fe-2627-4cbe-8906-f97aeb245233",
   "metadata": {},
   "source": [
    "### 1.3 Frequency, Frequency Tables, and Levels of Measurement.\n",
    "\n",
    "#### Answer and Roundoff\n",
    "* A simple way to roundoff answers is to carry your final answer one more decimal place than was present in the original data. Round off the final answr. Do not round off any intermediate results, if possible.\n",
    "\n",
    "#### Levels of Measurement\n",
    "* The way a set of data is measure is called its **level of measurement**. Data can be calssified into 4 levels of measurement.\n",
    "  > **Nomial scale level**. (Qualitative, Categorical)\n",
    "\n",
    "  > **Ordinal scale level**. (Similar to Nomial level but Ordered)\n",
    "\n",
    "  > **Interval scale level**. (Similar to Ordinal level with a difference)\n",
    "\n",
    "  * The difference between intervel level data can be measured though the data does not have a starting point. (Temperature scales like Celsius{C} and Fahrenheit {F})\n",
    "\n",
    "  > **Ratio scale level**. (Similar to Interval Data but have a starting point at 0 and takes care o the ratio problems, gives the most information)\n"
   ]
  },
  {
   "cell_type": "markdown",
   "id": "35c67d5a-782e-4e67-8bdf-2b4032350130",
   "metadata": {},
   "source": [
    "#### Frequency\n",
    "\n",
    "* **Frequency** : Number of time a value of the data occurs.\n",
    "* **Relative Frequency** : Ratio or proportion of the number of time a value of the data occurs in the set of all outcomes to the total number of outcomes.\n",
    "  > Frequency(Data Value)/ Total Number(Observations in sample)\n",
    "* **Cumulative Relative Frequency** : Accumulation (Sum) of the Relative Frequencies. ( The last entry of the cumulative reltive frequency will be **1**)\n"
   ]
  },
  {
   "cell_type": "markdown",
   "id": "0ca1d219-72bf-4430-baff-8e36c47fbfaf",
   "metadata": {},
   "source": [
    "### 1.4 Experimental Design and Ethics\n",
    "\n",
    "* The purpose of the experiment is to investigate the relationship between two vaiables.\n",
    "* When one variable causes change in another, we call the first variable the **Explonatory Variable**. The effected variable is called the **Response Variable**.\n",
    "* The different values of th explanatory variable are called **treatments**\n",
    "* An **Experimental unit** is a single object or individual to be measured.\n",
    "* Additional variables that can cloud a study are called **lurking variables**, It has no effect on a study even though it is neither an explanatory variable noe a response variable.\n",
    "* The researchers should design the experiments in such a way that tere is only one difference between groups being compared:planned treatments. This is accomplished by the **random assignment**.  \n"
   ]
  },
  {
   "cell_type": "markdown",
   "id": "80382501-574d-45fe-a468-e25d0356e4ef",
   "metadata": {},
   "source": [
    "* **Blinding** : not telling participants which treatment a subject is receiving.\n",
    "* **Control Group** : a group in a randomized experiment that receives an inactive treatment but is otherwise managed exactly as the other groups.\n",
    "* **Placebo** : An inactivev treatment that has no real effect on the explanatory variable.\n",
    "* **Sampling Bias** : Not all members of the population are equally likely to be selected."
   ]
  },
  {
   "cell_type": "markdown",
   "id": "290e7ef3-1ab7-44bc-86a7-6124c2466491",
   "metadata": {},
   "source": [
    "Page 75"
   ]
  },
  {
   "cell_type": "code",
   "execution_count": null,
   "id": "8ee95a67-3859-48e0-8e7a-8eb8c62b3d68",
   "metadata": {},
   "outputs": [],
   "source": []
  }
 ],
 "metadata": {
  "kernelspec": {
   "display_name": "Python 3 (ipykernel)",
   "language": "python",
   "name": "python3"
  },
  "language_info": {
   "codemirror_mode": {
    "name": "ipython",
    "version": 3
   },
   "file_extension": ".py",
   "mimetype": "text/x-python",
   "name": "python",
   "nbconvert_exporter": "python",
   "pygments_lexer": "ipython3",
   "version": "3.12.4"
  }
 },
 "nbformat": 4,
 "nbformat_minor": 5
}
