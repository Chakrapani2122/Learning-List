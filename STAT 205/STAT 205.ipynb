{
 "cells": [
  {
   "cell_type": "markdown",
   "id": "f305b796-8af9-45e7-905d-2832bacedc4d",
   "metadata": {},
   "source": [
    "# STAT 205\n",
    "## Basic Concepts in Statistics"
   ]
  },
  {
   "cell_type": "markdown",
   "id": "281f1fb5-1b0a-4cac-9a54-980925008da8",
   "metadata": {},
   "source": [
    "* Statistics is a branch of science dealing with collecting, \n",
    "organizing  summarizing, analysing and making decisions from\r\n",
    "dat\n",
    "* Statistics is divided into two main areas, which are **descriptive** and **inferential** statistics.\n",
    "* **Descriptive Statistics** : deals with method for collectiing, organizing, and describing data by using tables, graphs, and summary measures.\n",
    "* **Inferential Statistics** : deals with methods tha use sample results, to help in estimation or make decisions about the population.\n",
    "* A **Population** is the set of all elements(observations), items, or objects that bring them a common recipe and at least one taht will be studied their properties for a particular goal.*The components of teh population are called individuals or elements.\n",
    "> **EX** : Students at a school, where there rae different stages of the students, such as first, second, and third, as well as there are male and female, but they all gethered, including prescription study at hoigh school.\n",
    "\n",
    "* A **Sample** is a subset of the population selected for the study.\n",
    "* An **Element** (or member of a sample or population) is a specific subject or object about which is the information is collected.\n",
    "* A **Varaiable** is a characteristic under study that takes different values for different elements.\n",
    "* The **Value** od a variable for an element is called an **observation** or **measurement**\n",
    "* In statistics there ar etwo types of variables according to their elemets:\n",
    "  * **Qualitative**\n",
    "  * **Quantitative**\n",
    "* **Quantitative variable** gives us numbers representing counts or measurements.\n",
    "* **Qualitative variables** (or categorical data) gives us names or lables that rre not numbers representing the observations\n",
    "\n",
    "| Qualitative Data                             | Quantitative Data                       |\r\n",
    "|----------------------------------------------|-----------------------------------------|\r\n",
    "| The gender of Organisms (Male, Female, ...)  | The age of people in years (19, 2, 45, ...) |\r\n",
    "| Results tossed a coin twice (HH, HT, ...)    | Number of children in family (5, 2, 4, ...) |\r\n",
    "| Eye color of people (Black, Brown, Blue, ...) | The heights of buildings in meters (15, 5.6, ...) |\r\n",
    "| Religious affiliation (Muslim, Christian, ...) | The weights of cars in tons (2.35, 1.65, ...) |\r\n",
    "| The pressure in a boiler (High, Moderate, Low) | The speed of a car in Km (110, 105, 85, ...) |\r\n",
    "|                                              |                                          |\r\n",
    "."
   ]
  },
  {
   "cell_type": "markdown",
   "id": "a9c84be5-99a3-497a-9c4b-c26dd6b0e49c",
   "metadata": {},
   "source": [
    "* The **Quantitative Data** is divided into two types :\n",
    "* **Discrete variables** assume values that can be counted.\n",
    "  > The number of children in a family, where we have 1,2,3... or _k_ children.\n",
    "\n",
    "  > The number of children in a classroom, where we have 21, 25, 32, 18 and so on.\n",
    "\n",
    "* **Continuous variables** assume all values between any two specific values, i.e., they take all values in an interval. They often include fractions and decimals.\n",
    "  > Temperature : temperature in between 15 and 56.\n",
    "\n",
    "  > The age of a horse is between 0(stillborn) abd 62 years ( the oldest horse was 62 years , but the middle age of the horse is 30 years)."
   ]
  },
  {
   "cell_type": "markdown",
   "id": "1ab2afd4-d7d6-4cda-baf4-672e245bc694",
   "metadata": {},
   "source": [
    "* There are 4 levels of measurement scales :\n",
    "  * Nominal\n",
    "  * Ordinal\n",
    "  * Interval\n",
    "  * Ratio\n",
    "* The **Nominal** level of measurement classifies data into mutually exclusive (disjoint) categories in which no order or ranking can be imposed on the data.\n",
    "  > Gender : Male, Female\n",
    "\n",
    "  > Eye Color : Balck, Brown, Blue, Green\n",
    "\n",
    "  > Scientific Major Field : Statistics, Mathematics, Computers, geography, etc...\n",
    "\n",
    "* The **Ordinal** level of measuremnet classifies data into categories that canbe ordered, however precise differences between the ranks does not exists.\n",
    "  > Grading Technique : A, B, C, D, E, F\n",
    "\n",
    "  > Rating Scale : Bad, Good, Excellent.\n",
    "\n",
    "  > Ranking of Football Players\n",
    "\n",
    "  > Ranking of University Faculty Members\n",
    "\n",
    "* The **interval** level measurement orders data with precise differences between units of measure. (in this case there is no meaningful zero). Onn the other hand, the resulting measurement values belong to an interval of teh real numbers.\n",
    "  > **IELTS** scoring _x_ in (0,9).\n",
    "\n",
    "  > Temperature : When the degrees of temperature are measured in Celsius or Fahrenheit, then  the values that we obtain from absolute zero (-273.15 but without this degree) extends to millions as in the case in the sun and stars.\n",
    "\n",
    "* **NOTE** : comparing 30<sup>0</sup> C and 60<sup>0</sup> C, we can't say 60<sup>0</sup>C is high as twice the degree 30<sup>0</sup>; but we can say there is 30<sup>0</sup>C difference between them."
   ]
  },
  {
   "cell_type": "markdown",
   "id": "4b8eaa73-b39e-477f-91ec-a77f73875804",
   "metadata": {},
   "source": [
    "* The **ratio** level measurement is teh interval level with additional property that there is also a natural zero starting point. In this type of measurement zero means nothingness. Another difference lies in that we can attribute some of the quantities to others.\n",
    "  > Comparing distance between two cities, distance between city A and city B is twice the distance between City A and city C. Also the natural zero occurs when the distance between the starting city A and destination city A are same and distance becomes zero.\n",
    "\n",
    "  > Age : The ages of the people falls under this measurement actegory, because the zero here means taht teh person was born dead and that old equals zero."
   ]
  },
  {
   "cell_type": "markdown",
   "id": "df131875-07a1-4110-a39c-0c5ddca4e422",
   "metadata": {},
   "source": [
    "\n",
    "### Sampling Techniques\n",
    "* Sampling is done as it's hard rto study a large population in order to make conclusions about certain phenomenon. Therefore, sampling is not include the selection of elements arbitrary.\n",
    "* Some techniques of sampling are :\n",
    "  * Simple Random Sampling\n",
    "  * Systematic method\n",
    "  * Stratified method\n",
    "  * Clustered Sampling Method\n",
    "\n",
    "### Simple Random Sampling Method\n",
    "* It is the simplest amethod and applicable when the population is slightly small.\n",
    "* To get the sample of this type the elements of the population should be to achieve the following conditions:\n",
    "  1. All elements of population have the same chance of choice,\n",
    "  2. All elements of population are independent.\n",
    "* Three steps to use the random number table (after arranging the elements in a tabular form):\n",
    "  1. Randomly pick a number.\n",
    "  2. Proceed down untill you have selcetd the number of elements you need. When you reach the bottom of teh column, go to the next column.\n",
    "  3. Omit the duplicate numbers.\n",
    "\n",
    "* It is the simple method but have some disadvantages that make it not the best choice to use, especially when the population is large."
   ]
  },
  {
   "cell_type": "markdown",
   "id": "4782ea9d-6e52-4deb-bcd8-ed66abe7d43b",
   "metadata": {},
   "source": [
    "### Systematic Sampling Method\r\n",
    "* Suppose we want to take a sample size _n_ using this method,\r\n",
    "  1. Give elements of the population serial numbers from 1 up to _N_.\r\n",
    "  2. Determine an interval (Withdrawal Period) can be computed as\r\n",
    "     $$\r\n",
    "     k = \\frac{N}{n}\r\n",
    "     $$\r\n",
    "  where,\r\n",
    "    N : Size of the population\r\n",
    "    n : required sample size\r\n",
    "  3. Then randomly select number between 1 and _k_, the element that holds this number _s_ is the start element in the sample.\r\n",
    "  4. Take elements from the population that bears numbers `s+t*k` with `1<=t<=n-1`.\r\n",
    "\r\n",
    "\r\n",
    "### Stratified Sampling Method\r\n",
    "\r\n",
    "* In statistics, a subset of a population share some characteristics is called 'stratum' the plural for strata. In such a case the stratified sampling method is used and these subsets are selected randomly.\r\n",
    "* Suppose that PY administration want to measure the level of satisfaction of students about certain issue and whether there are differences between the opinions of the scientific path students and the humanities path students. So that, the administration will select students from each group to use the sample, its reasonable that, the size of each sample is proportional to the size of its relative to the whole population.\r\n",
    "\r\n",
    "\r\n",
    "## Cluster Sampling Method\r\n",
    "* In case of the stratified  sampling method, the researcher select a random sample of elements from population strata and analyses are performed on teh clusters choosen randomly from the population.\r\n",
    "* Usually each cluster consists of heterogeneous elements based on geographical bases.\r\n",
    "* The advantage of this method is it's cheaper than other methods.\r\n",
    "* Cluster is used when the population is large or when it involve elements residing in a large geographic area.\r\n",
    "*   If a researcher interested in surveying the number of students in Government of KSA universities who own American made cars. Assume that there are 25 universities in KSA. To do so, the researcher can select 5 universities and survey all students in these universities using cluster sampling method. This type of clustered sampling is called **single- stage-cluster sampling**.\r\n",
    "* Referring to above example, suppose that the researcher is interested in knowing the specialization of students who own American made cars in KSA governmental of universities. Assume that the needed sample size is 3000 students. First stage the researcher will chose 5 universities, and then the determined sample size is 3000 students. These can be selected from the five universities using the simple random sampling method or using the systematic method. In this case, we have **two stage cluster sampling**."
   ]
  },
  {
   "cell_type": "markdown",
   "id": "a0fd439f-dfb0-4bdd-ac83-9f779a956977",
   "metadata": {},
   "source": [
    "# CHAPTER 2\n",
    "## Organizing and Graphing Data\n",
    "* Data recorded in the sequence in which they are collected and before they are processed or ranked are called **raw data**.\n",
    "* A **Frequency Table** for quakitative data lists all categories, names or labels and the number of elements that belong to each of the categories, names or lables.\n",
    "* Stes to Construct the frequency Distribution Table :\n",
    "  1. Identify the variables and their categories.\n",
    "  2. Record the categories, names or labels in teh first column (or rows) of the table.\n",
    "  3. Mark a tally, denoted bythe symbol **/** in the second column, next to the corresponding category, name as label.\n",
    "  4. Record the total of the tallies for each category in the third column, which is called the column of frequencies and usually denoted by **_f_**."
   ]
  },
  {
   "cell_type": "markdown",
   "id": "f0c80741-cb5a-4b70-ae54-cd9bdba81ec8",
   "metadata": {},
   "source": []
  }
 ],
 "metadata": {
  "kernelspec": {
   "display_name": "Python 3 (ipykernel)",
   "language": "python",
   "name": "python3"
  },
  "language_info": {
   "codemirror_mode": {
    "name": "ipython",
    "version": 3
   },
   "file_extension": ".py",
   "mimetype": "text/x-python",
   "name": "python",
   "nbconvert_exporter": "python",
   "pygments_lexer": "ipython3",
   "version": "3.12.4"
  },
  "widgets": {
   "application/vnd.jupyter.widget-state+json": {
    "state": {},
    "version_major": 2,
    "version_minor": 0
   }
  }
 },
 "nbformat": 4,
 "nbformat_minor": 5
}
